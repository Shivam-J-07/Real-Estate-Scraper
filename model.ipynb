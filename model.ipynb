{
  "cells": [
    {
      "cell_type": "markdown",
      "metadata": {
        "id": "IrrZoDDPQzPH"
      },
      "source": [
        "# Rental Listing Price Model\n",
        "\n",
        "Below are the steps taken to build our regression model which will be used to predict effective prices for prospective rental listings."
      ]
    },
    {
      "cell_type": "markdown",
      "metadata": {
        "id": "yfBHc_LpQzPL"
      },
      "source": [
        "## Preparing the Data\n",
        "\n",
        "First we need to clean and standardize the data scraped from the rental listing site in order to have the model train on it."
      ]
    },
    {
      "cell_type": "code",
      "execution_count": 63,
      "metadata": {
        "id": "_R2jkqugQzPM"
      },
      "outputs": [],
      "source": [
        "from data_cleaner import get_cleaned_data, flatten_data\n",
        "import pandas as pd\n",
        "import numpy as np\n",
        "import os\n",
        "\n",
        "# from google.colab import files\n",
        "# uploaded = files.upload()"
      ]
    },
    {
      "cell_type": "markdown",
      "metadata": {
        "id": "9bRf6e4FQzPN"
      },
      "source": [
        "### Data Cleaning\n",
        "`get_cleaned_data()` removes invalid and outlier data including blanks and data for single room listings. It also formats the building and unit amenities by making each column a dict that contains the relevant amenities as keys with a value of 1 if the listing has it, else 0.\n",
        "\n",
        "`flatten_data()` flattens the building and unit amenities to put individual amenities into their own columns, essentially flattening the building and unit amenities dicts into separate columns in each row."
      ]
    },
    {
      "cell_type": "code",
      "execution_count": 64,
      "metadata": {
        "colab": {
          "base_uri": "https://localhost:8080/"
        },
        "id": "eX7i73ytQzPN",
        "outputId": "a32f4069-2aec-4507-c2ef-95b5c0c2c8d7"
      },
      "outputs": [
        {
          "name": "stdout",
          "output_type": "stream",
          "text": [
            "3704\n"
          ]
        }
      ],
      "source": [
        "pd.set_option('display.max_columns', None)\n",
        "\n",
        "cleaned_data = get_cleaned_data()\n",
        "flattened_data = flatten_data(cleaned_data)\n",
        "df = pd.DataFrame(flattened_data)\n",
        "\n",
        "print(len(df))\n",
        "\n",
        "df.to_excel(\"cleaned_data.xlsx\", index=False)"
      ]
    },
    {
      "cell_type": "code",
      "execution_count": 65,
      "metadata": {
        "colab": {
          "base_uri": "https://localhost:8080/"
        },
        "id": "VTP4IVSsQzPO",
        "outputId": "fa21eec1-1458-4ab9-92eb-677835ab030a"
      },
      "outputs": [
        {
          "name": "stdout",
          "output_type": "stream",
          "text": [
            "Printing columns:\n",
            "Index(['Building', 'Address', 'City', 'Listing', 'Bed', 'Bath', 'SqFt',\n",
            "       'Price', 'Pets', 'Latitude', 'Longitude', 'Balcony', 'In Unit Laundry',\n",
            "       'Air Conditioning', 'High Ceilings', 'Furnished', 'Hardwood Floor',\n",
            "       'Controlled Access', 'Fitness Center', 'Swimming Pool', 'Roof Deck',\n",
            "       'Storage', 'Residents Lounge', 'Outdoor Space'],\n",
            "      dtype='object')\n"
          ]
        }
      ],
      "source": [
        "print(\"Printing columns:\")\n",
        "print(df.columns)"
      ]
    },
    {
      "cell_type": "code",
      "execution_count": 66,
      "metadata": {
        "colab": {
          "base_uri": "https://localhost:8080/"
        },
        "id": "ZBqux6O8QzPP",
        "outputId": "946b4200-fae2-4543-b471-b1d6b05b1d48"
      },
      "outputs": [
        {
          "name": "stdout",
          "output_type": "stream",
          "text": [
            "Printing first 2 rows:\n",
            "             Building                                  Address     City  \\\n",
            "0  20 Samuel Wood Way  20 Samuel Wood Way, Toronto, ON M9B 0C8  Toronto   \n",
            "1  20 Samuel Wood Way  20 Samuel Wood Way, Toronto, ON M9B 0C8  Toronto   \n",
            "\n",
            "     Listing  Bed  Bath  SqFt  Price  Pets  Latitude  Longitude  Balcony  \\\n",
            "0     Studio    0   1.0   370   2225     0  43.63526  -79.53992        0   \n",
            "1  1 Bedroom    1   1.0   540   2625     0  43.63526  -79.53992        0   \n",
            "\n",
            "   In Unit Laundry  Air Conditioning  High Ceilings  Furnished  \\\n",
            "0                0                 0              0          0   \n",
            "1                0                 0              0          0   \n",
            "\n",
            "   Hardwood Floor  Controlled Access  Fitness Center  Swimming Pool  \\\n",
            "0               0                  1               1              0   \n",
            "1               0                  1               1              0   \n",
            "\n",
            "   Roof Deck  Storage  Residents Lounge  Outdoor Space  \n",
            "0          0        1                 1              1  \n",
            "1          0        1                 1              1  \n"
          ]
        }
      ],
      "source": [
        "print(\"Printing first 2 rows:\")\n",
        "print(df.head(2))"
      ]
    },
    {
      "cell_type": "markdown",
      "metadata": {
        "id": "tulbZCsQQzPP"
      },
      "source": [
        "### The `Building` and `UnitType` class\n",
        "\n",
        "For our purposes, we want to group the data by building type, unit type, and city as three major parameters. We created the `Building`, `UnitType`, `City` classes to group data together cleanly. This will become useful when dividing our data into a training and test set.\n",
        "\n",
        "The `Building` class encompasses the relationship between a building name and the different types of units in it.\n",
        "\n",
        "The `UnitType` class represents the different types of units where units are distinguished by number of bedrooms.\n",
        "\n",
        "The `City` class contains all the `Building` values associated with a specific city."
      ]
    },
    {
      "cell_type": "code",
      "execution_count": 67,
      "metadata": {
        "id": "zyt-tv6zQzPP"
      },
      "outputs": [],
      "source": [
        "from constants import TableHeaders\n",
        "from classes import UnitType, Building, City"
      ]
    },
    {
      "cell_type": "code",
      "execution_count": 68,
      "metadata": {
        "id": "khPJ4ziGQzPQ"
      },
      "outputs": [],
      "source": [
        "cities: list[City] = []\n",
        "\n",
        "# Filter out listings with prices greater than $5K - these extreme values are outliers\n",
        "df = df[df[TableHeaders.PRICE.value] < 5000]\n",
        "\n",
        "# Group data by city to extract city specific insights\n",
        "city_groups = df.groupby(TableHeaders.CITY.value)\n",
        "\n",
        "for city_name, city_df in city_groups:\n",
        "    current_city = City(city_name)\n",
        "    # Group city data by building name to extract building specific insights\n",
        "    building_groups = city_df.groupby(TableHeaders.BUILDING.value)\n",
        "\n",
        "    # Create an intermediary tuple to record number of available units and sort buildings accordingly\n",
        "    # When displaying overarching insights for an area, buildings with more units will be more informational\n",
        "    buildings_tuples = [(building, building_df, len(building_df)) for building, building_df in building_groups]\n",
        "    buildings_tuples.sort(key = lambda x: x[2], reverse=True)\n",
        "\n",
        "    for building_name, building_df, num_units in buildings_tuples:\n",
        "\n",
        "        current_building: Building = Building(building_name, city_name)\n",
        "        # Group by bed type within this building\n",
        "        bed_groups = building_df.groupby(TableHeaders.BED.value)\n",
        "        for bed, unit_df in bed_groups:\n",
        "            current_building.add_unit_type(bed=bed, unit_df=unit_df)\n",
        "\n",
        "        current_city.add_building(current_building)\n",
        "    cities.append(current_city)"
      ]
    },
    {
      "cell_type": "markdown",
      "metadata": {
        "id": "hqQOFsDeQzPQ"
      },
      "source": [
        "Since we want to partition the data into a test and train set with an even 20% split based on the unit type, let's remove the entries that have less than 5 listings for that unit type."
      ]
    },
    {
      "cell_type": "code",
      "execution_count": 69,
      "metadata": {
        "id": "V-ZYsetfQzPQ"
      },
      "outputs": [],
      "source": [
        "standardized_df = df.copy()\n",
        "for city_name, city_df in city_groups:\n",
        "    unit_groups = city_df.groupby(TableHeaders.BED.value)\n",
        "    for unit_type, unit_df in unit_groups:\n",
        "        # Filter out the unit listings that have less than 5 entries for that unit type\n",
        "        # since it won't have sufficient data to split between testing and training\n",
        "        if len(unit_df) < 5:\n",
        "            # print(city_name, unit_type, len(unit_df))\n",
        "            standardized_df = standardized_df.loc[\n",
        "                ~((standardized_df[TableHeaders.CITY.value] == city_name) &\n",
        "                (standardized_df[TableHeaders.BED.value] == unit_type))\n",
        "            ]"
      ]
    },
    {
      "cell_type": "code",
      "execution_count": 70,
      "metadata": {
        "colab": {
          "base_uri": "https://localhost:8080/"
        },
        "id": "pwOAfBlIQzPR",
        "outputId": "70dc7926-b49a-4744-9bc4-51835042829c"
      },
      "outputs": [
        {
          "name": "stdout",
          "output_type": "stream",
          "text": [
            "City: Edmonton\n",
            "Building: Citizen on Jasper\n",
            "Total Units: 75\n",
            "Overall Average SqFt: 648.60\n",
            "Overall Average Price: 2016.79\n",
            "Overall Price Per SqFt: 3.11\n",
            "-----------------------------------\n",
            "Bedroom Type: 1 beds\n",
            " - Units: 61\n",
            " - Average SqFt: 585.95\n",
            " - Average Price: 1873.16\n",
            " - Price per SqFt: 3.20\n",
            "-----------------------------------\n",
            "Bedroom Type: 2 beds\n",
            " - Units: 13\n",
            " - Average SqFt: 905.77\n",
            " - Average Price: 2579.62\n",
            " - Price per SqFt: 2.85\n",
            "-----------------------------------\n",
            "Bedroom Type: 3 beds\n",
            " - Units: 1\n",
            " - Average SqFt: 1127.00\n",
            " - Average Price: 3461.00\n",
            " - Price per SqFt: 3.07\n",
            "-----------------------------------\n",
            "\n",
            "Building: Stadium Yards \n",
            "Total Units: 14\n",
            "Overall Average SqFt: 743.71\n",
            "Overall Average Price: 1717.14\n",
            "Overall Price Per SqFt: 2.31\n",
            "-----------------------------------\n",
            "Bedroom Type: 0 beds\n",
            " - Units: 2\n",
            " - Average SqFt: 500.00\n",
            " - Average Price: 1350.00\n",
            " - Price per SqFt: 2.70\n",
            "-----------------------------------\n",
            "Bedroom Type: 1 beds\n",
            " - Units: 4\n",
            " - Average SqFt: 603.00\n",
            " - Average Price: 1600.00\n",
            " - Price per SqFt: 2.65\n",
            "-----------------------------------\n",
            "Bedroom Type: 2 beds\n",
            " - Units: 8\n",
            " - Average SqFt: 875.00\n",
            " - Average Price: 1867.50\n",
            " - Price per SqFt: 2.13\n",
            "-----------------------------------\n",
            "\n",
            "Building: Raymond Block\n",
            "Total Units: 13\n",
            "Overall Average SqFt: 791.23\n",
            "Overall Average Price: 1958.08\n",
            "Overall Price Per SqFt: 2.47\n",
            "-----------------------------------\n",
            "Bedroom Type: 1 beds\n",
            " - Units: 9\n",
            " - Average SqFt: 709.56\n",
            " - Average Price: 1861.11\n",
            " - Price per SqFt: 2.62\n",
            "-----------------------------------\n",
            "Bedroom Type: 2 beds\n",
            " - Units: 4\n",
            " - Average SqFt: 975.00\n",
            " - Average Price: 2176.25\n",
            " - Price per SqFt: 2.23\n",
            "-----------------------------------\n",
            "\n",
            "Building: The MacLaren\n",
            "Total Units: 10\n",
            "Overall Average SqFt: 714.50\n",
            "Overall Average Price: 2137.50\n",
            "Overall Price Per SqFt: 2.99\n",
            "-----------------------------------\n",
            "Bedroom Type: 1 beds\n",
            " - Units: 5\n",
            " - Average SqFt: 568.00\n",
            " - Average Price: 1733.00\n",
            " - Price per SqFt: 3.05\n",
            "-----------------------------------\n",
            "Bedroom Type: 2 beds\n",
            " - Units: 5\n",
            " - Average SqFt: 861.00\n",
            " - Average Price: 2542.00\n",
            " - Price per SqFt: 2.95\n",
            "-----------------------------------\n",
            "\n",
            "Building: Sierra Place\n",
            "Total Units: 9\n",
            "Overall Average SqFt: 800.00\n",
            "Overall Average Price: 1321.33\n",
            "Overall Price Per SqFt: 1.65\n",
            "-----------------------------------\n",
            "Bedroom Type: 1 beds\n",
            " - Units: 3\n",
            " - Average SqFt: 700.00\n",
            " - Average Price: 1188.00\n",
            " - Price per SqFt: 1.70\n",
            "-----------------------------------\n",
            "Bedroom Type: 2 beds\n",
            " - Units: 6\n",
            " - Average SqFt: 850.00\n",
            " - Average Price: 1388.00\n",
            " - Price per SqFt: 1.63\n",
            "-----------------------------------\n",
            "\n",
            "City: Montreal\n",
            "Building: IVY Montreal\n",
            "Total Units: 147\n",
            "Overall Average SqFt: 681.48\n",
            "Overall Average Price: 2293.78\n",
            "Overall Price Per SqFt: 3.37\n",
            "-----------------------------------\n",
            "Bedroom Type: 0 beds\n",
            " - Units: 22\n",
            " - Average SqFt: 483.82\n",
            " - Average Price: 1877.27\n",
            " - Price per SqFt: 3.88\n",
            "-----------------------------------\n",
            "Bedroom Type: 1 beds\n",
            " - Units: 102\n",
            " - Average SqFt: 665.52\n",
            " - Average Price: 2235.00\n",
            " - Price per SqFt: 3.36\n",
            "-----------------------------------\n",
            "Bedroom Type: 2 beds\n",
            " - Units: 23\n",
            " - Average SqFt: 941.30\n",
            " - Average Price: 2952.83\n",
            " - Price per SqFt: 3.14\n",
            "-----------------------------------\n",
            "\n",
            "Building: Maddox Dorchester\n",
            "Total Units: 16\n",
            "Overall Average SqFt: 687.50\n",
            "Overall Average Price: 1881.25\n",
            "Overall Price Per SqFt: 2.74\n",
            "-----------------------------------\n",
            "Bedroom Type: 0 beds\n",
            " - Units: 4\n",
            " - Average SqFt: 462.75\n",
            " - Average Price: 1362.50\n",
            " - Price per SqFt: 2.94\n",
            "-----------------------------------\n",
            "Bedroom Type: 1 beds\n",
            " - Units: 8\n",
            " - Average SqFt: 651.25\n",
            " - Average Price: 1793.75\n",
            " - Price per SqFt: 2.75\n",
            "-----------------------------------\n",
            "Bedroom Type: 2 beds\n",
            " - Units: 4\n",
            " - Average SqFt: 984.75\n",
            " - Average Price: 2575.00\n",
            " - Price per SqFt: 2.61\n",
            "-----------------------------------\n",
            "\n",
            "Building: 3460 Peel Street\n",
            "Total Units: 12\n",
            "Overall Average SqFt: 665.50\n",
            "Overall Average Price: 2355.83\n",
            "Overall Price Per SqFt: 3.54\n",
            "-----------------------------------\n",
            "Bedroom Type: 0 beds\n",
            " - Units: 3\n",
            " - Average SqFt: 450.00\n",
            " - Average Price: 1433.33\n",
            " - Price per SqFt: 3.19\n",
            "-----------------------------------\n",
            "Bedroom Type: 1 beds\n",
            " - Units: 5\n",
            " - Average SqFt: 557.00\n",
            " - Average Price: 2027.00\n",
            " - Price per SqFt: 3.64\n",
            "-----------------------------------\n",
            "Bedroom Type: 2 beds\n",
            " - Units: 4\n",
            " - Average SqFt: 962.75\n",
            " - Average Price: 3458.75\n",
            " - Price per SqFt: 3.59\n",
            "-----------------------------------\n",
            "\n",
            "Building: 135 \n",
            "Total Units: 10\n",
            "Overall Average SqFt: 640.00\n",
            "Overall Average Price: 1636.00\n",
            "Overall Price Per SqFt: 2.56\n",
            "-----------------------------------\n",
            "Bedroom Type: 1 beds\n",
            " - Units: 7\n",
            " - Average SqFt: 550.00\n",
            " - Average Price: 1543.57\n",
            " - Price per SqFt: 2.81\n",
            "-----------------------------------\n",
            "Bedroom Type: 2 beds\n",
            " - Units: 3\n",
            " - Average SqFt: 850.00\n",
            " - Average Price: 1851.67\n",
            " - Price per SqFt: 2.18\n",
            "-----------------------------------\n",
            "\n",
            "Building: Gramercy Residences\n",
            "Total Units: 10\n",
            "Overall Average SqFt: 544.00\n",
            "Overall Average Price: 1730.50\n",
            "Overall Price Per SqFt: 3.18\n",
            "-----------------------------------\n",
            "Bedroom Type: 0 beds\n",
            " - Units: 4\n",
            " - Average SqFt: 350.00\n",
            " - Average Price: 1375.00\n",
            " - Price per SqFt: 3.93\n",
            "-----------------------------------\n",
            "Bedroom Type: 1 beds\n",
            " - Units: 4\n",
            " - Average SqFt: 575.00\n",
            " - Average Price: 1776.25\n",
            " - Price per SqFt: 3.09\n",
            "-----------------------------------\n",
            "Bedroom Type: 2 beds\n",
            " - Units: 2\n",
            " - Average SqFt: 870.00\n",
            " - Average Price: 2350.00\n",
            " - Price per SqFt: 2.70\n",
            "-----------------------------------\n",
            "\n",
            "City: Toronto\n",
            "Building: Maple House at Canary Landing\n",
            "Total Units: 227\n",
            "Overall Average SqFt: 686.94\n",
            "Overall Average Price: 3269.68\n",
            "Overall Price Per SqFt: 4.76\n",
            "-----------------------------------\n",
            "Bedroom Type: 1 beds\n",
            " - Units: 120\n",
            " - Average SqFt: 553.09\n",
            " - Average Price: 2797.56\n",
            " - Price per SqFt: 5.06\n",
            "-----------------------------------\n",
            "Bedroom Type: 2 beds\n",
            " - Units: 98\n",
            " - Average SqFt: 820.78\n",
            " - Average Price: 3752.94\n",
            " - Price per SqFt: 4.57\n",
            "-----------------------------------\n",
            "Bedroom Type: 3 beds\n",
            " - Units: 9\n",
            " - Average SqFt: 1014.33\n",
            " - Average Price: 4302.56\n",
            " - Price per SqFt: 4.24\n",
            "-----------------------------------\n",
            "\n",
            "Building: The Ivy\n",
            "Total Units: 148\n",
            "Overall Average SqFt: 682.99\n",
            "Overall Average Price: 3534.38\n",
            "Overall Price Per SqFt: 5.17\n",
            "-----------------------------------\n",
            "Bedroom Type: 0 beds\n",
            " - Units: 2\n",
            " - Average SqFt: 489.00\n",
            " - Average Price: 2694.50\n",
            " - Price per SqFt: 5.51\n",
            "-----------------------------------\n",
            "Bedroom Type: 1 beds\n",
            " - Units: 61\n",
            " - Average SqFt: 508.75\n",
            " - Average Price: 2915.07\n",
            " - Price per SqFt: 5.73\n",
            "-----------------------------------\n",
            "Bedroom Type: 2 beds\n",
            " - Units: 73\n",
            " - Average SqFt: 789.71\n",
            " - Average Price: 3927.51\n",
            " - Price per SqFt: 4.97\n",
            "-----------------------------------\n",
            "Bedroom Type: 3 beds\n",
            " - Units: 12\n",
            " - Average SqFt: 951.75\n",
            " - Average Price: 4431.00\n",
            " - Price per SqFt: 4.66\n",
            "-----------------------------------\n",
            "\n",
            "Building: LNX\n",
            "Total Units: 78\n",
            "Overall Average SqFt: 699.78\n",
            "Overall Average Price: 3083.21\n",
            "Overall Price Per SqFt: 4.41\n",
            "-----------------------------------\n",
            "Bedroom Type: 1 beds\n",
            " - Units: 43\n",
            " - Average SqFt: 622.49\n",
            " - Average Price: 2799.07\n",
            " - Price per SqFt: 4.50\n",
            "-----------------------------------\n",
            "Bedroom Type: 2 beds\n",
            " - Units: 35\n",
            " - Average SqFt: 794.74\n",
            " - Average Price: 3432.29\n",
            " - Price per SqFt: 4.32\n",
            "-----------------------------------\n",
            "\n",
            "Building: The Fairbank\n",
            "Total Units: 54\n",
            "Overall Average SqFt: 672.61\n",
            "Overall Average Price: 2693.44\n",
            "Overall Price Per SqFt: 4.00\n",
            "-----------------------------------\n",
            "Bedroom Type: 0 beds\n",
            " - Units: 1\n",
            " - Average SqFt: 434.00\n",
            " - Average Price: 2099.00\n",
            " - Price per SqFt: 4.84\n",
            "-----------------------------------\n",
            "Bedroom Type: 1 beds\n",
            " - Units: 32\n",
            " - Average SqFt: 562.09\n",
            " - Average Price: 2374.00\n",
            " - Price per SqFt: 4.22\n",
            "-----------------------------------\n",
            "Bedroom Type: 2 beds\n",
            " - Units: 19\n",
            " - Average SqFt: 844.32\n",
            " - Average Price: 3172.68\n",
            " - Price per SqFt: 3.76\n",
            "-----------------------------------\n",
            "Bedroom Type: 3 beds\n",
            " - Units: 2\n",
            " - Average SqFt: 929.00\n",
            " - Average Price: 3549.00\n",
            " - Price per SqFt: 3.82\n",
            "-----------------------------------\n",
            "\n",
            "Building: Parker\n",
            "Total Units: 44\n",
            "Overall Average SqFt: 585.34\n",
            "Overall Average Price: 3420.45\n",
            "Overall Price Per SqFt: 5.84\n",
            "-----------------------------------\n",
            "Bedroom Type: 0 beds\n",
            " - Units: 5\n",
            " - Average SqFt: 350.00\n",
            " - Average Price: 2620.00\n",
            " - Price per SqFt: 7.49\n",
            "-----------------------------------\n",
            "Bedroom Type: 1 beds\n",
            " - Units: 25\n",
            " - Average SqFt: 531.84\n",
            " - Average Price: 3073.80\n",
            " - Price per SqFt: 5.78\n",
            "-----------------------------------\n",
            "Bedroom Type: 2 beds\n",
            " - Units: 13\n",
            " - Average SqFt: 755.62\n",
            " - Average Price: 4275.00\n",
            " - Price per SqFt: 5.66\n",
            "-----------------------------------\n",
            "Bedroom Type: 3 beds\n",
            " - Units: 1\n",
            " - Average SqFt: 886.00\n",
            " - Average Price: 4980.00\n",
            " - Price per SqFt: 5.62\n",
            "-----------------------------------\n",
            "\n",
            "City: Vancouver\n",
            "Building: The Standard\n",
            "Total Units: 8\n",
            "Overall Average SqFt: 320.00\n",
            "Overall Average Price: 2201.88\n",
            "Overall Price Per SqFt: 6.88\n",
            "-----------------------------------\n",
            "Bedroom Type: 0 beds\n",
            " - Units: 8\n",
            " - Average SqFt: 320.00\n",
            " - Average Price: 2201.88\n",
            " - Price per SqFt: 6.88\n",
            "-----------------------------------\n",
            "\n",
            "Building: 3583 Kingsway\n",
            "Total Units: 7\n",
            "Overall Average SqFt: 648.14\n",
            "Overall Average Price: 2657.57\n",
            "Overall Price Per SqFt: 4.10\n",
            "-----------------------------------\n",
            "Bedroom Type: 0 beds\n",
            " - Units: 1\n",
            " - Average SqFt: 475.00\n",
            " - Average Price: 2155.00\n",
            " - Price per SqFt: 4.54\n",
            "-----------------------------------\n",
            "Bedroom Type: 1 beds\n",
            " - Units: 4\n",
            " - Average SqFt: 625.75\n",
            " - Average Price: 2579.50\n",
            " - Price per SqFt: 4.12\n",
            "-----------------------------------\n",
            "Bedroom Type: 2 beds\n",
            " - Units: 2\n",
            " - Average SqFt: 779.50\n",
            " - Average Price: 3065.00\n",
            " - Price per SqFt: 3.93\n",
            "-----------------------------------\n",
            "\n",
            "Building: Bayview at Coal Harbour\n",
            "Total Units: 6\n",
            "Overall Average SqFt: 636.83\n",
            "Overall Average Price: 3169.83\n",
            "Overall Price Per SqFt: 4.98\n",
            "-----------------------------------\n",
            "Bedroom Type: 1 beds\n",
            " - Units: 6\n",
            " - Average SqFt: 636.83\n",
            " - Average Price: 3169.83\n",
            " - Price per SqFt: 4.98\n",
            "-----------------------------------\n",
            "\n",
            "Building: Yaletown 939\n",
            "Total Units: 6\n",
            "Overall Average SqFt: 656.50\n",
            "Overall Average Price: 3474.17\n",
            "Overall Price Per SqFt: 5.29\n",
            "-----------------------------------\n",
            "Bedroom Type: 0 beds\n",
            " - Units: 1\n",
            " - Average SqFt: 429.00\n",
            " - Average Price: 2811.00\n",
            " - Price per SqFt: 6.55\n",
            "-----------------------------------\n",
            "Bedroom Type: 1 beds\n",
            " - Units: 2\n",
            " - Average SqFt: 512.50\n",
            " - Average Price: 3089.00\n",
            " - Price per SqFt: 6.03\n",
            "-----------------------------------\n",
            "Bedroom Type: 2 beds\n",
            " - Units: 3\n",
            " - Average SqFt: 828.33\n",
            " - Average Price: 3952.00\n",
            " - Price per SqFt: 4.77\n",
            "-----------------------------------\n",
            "\n",
            "Building: Metropolitan Towers\n",
            "Total Units: 5\n",
            "Overall Average SqFt: 547.80\n",
            "Overall Average Price: 2694.40\n",
            "Overall Price Per SqFt: 4.92\n",
            "-----------------------------------\n",
            "Bedroom Type: 0 beds\n",
            " - Units: 1\n",
            " - Average SqFt: 437.00\n",
            " - Average Price: 2631.00\n",
            " - Price per SqFt: 6.02\n",
            "-----------------------------------\n",
            "Bedroom Type: 1 beds\n",
            " - Units: 4\n",
            " - Average SqFt: 575.50\n",
            " - Average Price: 2710.25\n",
            " - Price per SqFt: 4.71\n",
            "-----------------------------------\n",
            "\n",
            "City: Winnipeg\n",
            "Building: The Point at Pembina\n",
            "Total Units: 67\n",
            "Overall Average SqFt: 719.16\n",
            "Overall Average Price: 1652.01\n",
            "Overall Price Per SqFt: 2.30\n",
            "-----------------------------------\n",
            "Bedroom Type: 1 beds\n",
            " - Units: 44\n",
            " - Average SqFt: 618.77\n",
            " - Average Price: 1509.09\n",
            " - Price per SqFt: 2.44\n",
            "-----------------------------------\n",
            "Bedroom Type: 2 beds\n",
            " - Units: 23\n",
            " - Average SqFt: 911.22\n",
            " - Average Price: 1925.43\n",
            " - Price per SqFt: 2.11\n",
            "-----------------------------------\n",
            "\n",
            "Building: The Edge\n",
            "Total Units: 23\n",
            "Overall Average SqFt: 851.22\n",
            "Overall Average Price: 1603.70\n",
            "Overall Price Per SqFt: 1.88\n",
            "-----------------------------------\n",
            "Bedroom Type: 1 beds\n",
            " - Units: 9\n",
            " - Average SqFt: 757.11\n",
            " - Average Price: 1495.00\n",
            " - Price per SqFt: 1.97\n",
            "-----------------------------------\n",
            "Bedroom Type: 2 beds\n",
            " - Units: 13\n",
            " - Average SqFt: 907.54\n",
            " - Average Price: 1664.23\n",
            " - Price per SqFt: 1.83\n",
            "-----------------------------------\n",
            "Bedroom Type: 3 beds\n",
            " - Units: 1\n",
            " - Average SqFt: 966.00\n",
            " - Average Price: 1795.00\n",
            " - Price per SqFt: 1.86\n",
            "-----------------------------------\n",
            "\n",
            "Building: 160 Centre Street\n",
            "Total Units: 20\n",
            "Overall Average SqFt: 712.70\n",
            "Overall Average Price: 1522.75\n",
            "Overall Price Per SqFt: 2.14\n",
            "-----------------------------------\n",
            "Bedroom Type: 1 beds\n",
            " - Units: 15\n",
            " - Average SqFt: 696.40\n",
            " - Average Price: 1403.00\n",
            " - Price per SqFt: 2.01\n",
            "-----------------------------------\n",
            "Bedroom Type: 2 beds\n",
            " - Units: 5\n",
            " - Average SqFt: 761.60\n",
            " - Average Price: 1882.00\n",
            " - Price per SqFt: 2.47\n",
            "-----------------------------------\n",
            "\n",
            "Building: Element Townhomes in Prairie Pointe\n",
            "Total Units: 13\n",
            "Overall Average SqFt: 990.77\n",
            "Overall Average Price: 1943.85\n",
            "Overall Price Per SqFt: 1.96\n",
            "-----------------------------------\n",
            "Bedroom Type: 1 beds\n",
            " - Units: 4\n",
            " - Average SqFt: 629.25\n",
            " - Average Price: 1632.50\n",
            " - Price per SqFt: 2.59\n",
            "-----------------------------------\n",
            "Bedroom Type: 2 beds\n",
            " - Units: 6\n",
            " - Average SqFt: 1027.33\n",
            " - Average Price: 1929.17\n",
            " - Price per SqFt: 1.88\n",
            "-----------------------------------\n",
            "Bedroom Type: 3 beds\n",
            " - Units: 2\n",
            " - Average SqFt: 1394.50\n",
            " - Average Price: 2360.00\n",
            " - Price per SqFt: 1.69\n",
            "-----------------------------------\n",
            "Bedroom Type: 4 beds\n",
            " - Units: 1\n",
            " - Average SqFt: 1410.00\n",
            " - Average Price: 2445.00\n",
            " - Price per SqFt: 1.73\n",
            "-----------------------------------\n",
            "\n",
            "Building: 162 Scott St\n",
            "Total Units: 8\n",
            "Overall Average SqFt: 812.12\n",
            "Overall Average Price: 1743.75\n",
            "Overall Price Per SqFt: 2.15\n",
            "-----------------------------------\n",
            "Bedroom Type: 1 beds\n",
            " - Units: 4\n",
            " - Average SqFt: 705.25\n",
            " - Average Price: 1525.00\n",
            " - Price per SqFt: 2.16\n",
            "-----------------------------------\n",
            "Bedroom Type: 2 beds\n",
            " - Units: 4\n",
            " - Average SqFt: 919.00\n",
            " - Average Price: 1962.50\n",
            " - Price per SqFt: 2.14\n",
            "-----------------------------------\n",
            "\n"
          ]
        }
      ],
      "source": [
        "for city in cities:\n",
        "    print(f\"City: {city.name}\")\n",
        "    for building in city.buildings[:5]:\n",
        "        print(building)"
      ]
    },
    {
      "cell_type": "markdown",
      "metadata": {
        "id": "zR7SIBKuQzPR"
      },
      "source": [
        "## Training the Model"
      ]
    },
    {
      "cell_type": "code",
      "execution_count": 71,
      "metadata": {
        "id": "3Yc5TdB0QzPR"
      },
      "outputs": [],
      "source": [
        "from sklearn.model_selection import train_test_split\n",
        "city_groups = standardized_df.groupby(TableHeaders.CITY.value)\n",
        "master_train_df = pd.DataFrame()\n",
        "master_test_df = pd.DataFrame()\n",
        "for city_name, city_df in city_groups:\n",
        "    train_df, test_df = train_test_split(city_df, test_size=0.2, random_state=42, stratify=city_df[TableHeaders.BED.value])\n",
        "\n",
        "    # Concatenate the individual city train and test sets with the master DataFrames\n",
        "    master_train_df = pd.concat([master_train_df, train_df], ignore_index=True)\n",
        "    master_test_df = pd.concat([master_test_df, test_df], ignore_index=True)\n",
        "\n",
        "# print(len(master_train_df.loc[master_train_df[TableHeaders.BED.value] == 1]))\n",
        "# print(len(master_test_df.loc[master_test_df[TableHeaders.BED.value] == 1]))\n",
        "# print(len(master_train_df.loc[master_train_df[TableHeaders.BED.value] == 2]))\n",
        "# print(len(master_test_df.loc[master_test_df[TableHeaders.BED.value] == 2]))"
      ]
    },
    {
      "cell_type": "code",
      "execution_count": 72,
      "metadata": {
        "colab": {
          "base_uri": "https://localhost:8080/"
        },
        "id": "d9z_WSn-QzPR",
        "outputId": "1d5ea056-1a15-444d-801a-b7da476c54b0"
      },
      "outputs": [
        {
          "name": "stdout",
          "output_type": "stream",
          "text": [
            "tensor([   1.0000,    1.0000,  451.0000,    1.0000,   53.5510, -113.4975,\n",
            "           1.0000,    0.0000,    0.0000,    0.0000,    0.0000,    0.0000,\n",
            "           1.0000,    0.0000,    0.0000,    0.0000,    1.0000,    0.0000,\n",
            "           0.0000]) tensor(1000.)\n"
          ]
        }
      ],
      "source": [
        "import torch\n",
        "# Assuming 'target_column' is the name of your target variable\n",
        "dropped_columns = [\n",
        "    TableHeaders.PRICE.value,\n",
        "    TableHeaders.BUILDING.value,\n",
        "    TableHeaders.CITY.value,\n",
        "    TableHeaders.LISTING.value,\n",
        "    TableHeaders.ADDRESS.value,\n",
        "    # TableHeaders.LAT.value,\n",
        "    # TableHeaders.LON.value,\n",
        "    # TableHeaders.PETS.value,\n",
        "    # TableHeaders.SQFT.value,\n",
        "    # TableHeaders.BED.value,\n",
        "    # TableHeaders.BATH.value,\n",
        "    # 'Balcony',\n",
        "    # 'In Unit Laundry',\n",
        "    # 'Air Conditioning',\n",
        "    # 'High Ceilings',\n",
        "    # 'Furnished',\n",
        "    # 'Hardwood Floor',\n",
        "    # 'Controlled Access',\n",
        "    # 'Fitness Center',\n",
        "    # 'Swimming Pool',\n",
        "    # 'Roof Deck',\n",
        "    # 'Storage',\n",
        "    # 'Residents Lounge',\n",
        "    # 'Outdoor Space',\n",
        "]\n",
        "\n",
        "# updated_df = master_train_df.loc[master_train_df[TableHeaders.CITY.value] == 'toronto']\n",
        "\n",
        "updated_train_df = master_train_df.drop(dropped_columns, axis=1)\n",
        "updated_test_df = master_test_df.drop(dropped_columns, axis=1)\n",
        "\n",
        "X_train = torch.tensor(updated_train_df.values).float()\n",
        "y_train = torch.tensor(master_train_df[TableHeaders.PRICE.value].values).float()\n",
        "\n",
        "X_test = torch.tensor(updated_test_df.values).float()\n",
        "y_test = torch.tensor(master_test_df[TableHeaders.PRICE.value].values).float()\n",
        "\n",
        "# y_train = y_train.view(y_train.shape[0],1)\n",
        "# y_test = y_test.view(y_test.shape[0],1)\n",
        "\n",
        "print(X_train[0], y_train[0])"
      ]
    },
    {
      "cell_type": "code",
      "execution_count": 73,
      "metadata": {
        "id": "m0DWILz9QzPS"
      },
      "outputs": [],
      "source": [
        "from dataset import RentalDataset\n",
        "from torch.utils.data import DataLoader\n",
        "\n",
        "train_dataset = RentalDataset(X_train, y_train)\n",
        "test_dataset = RentalDataset(X_test, y_test)\n",
        "\n",
        "batch_size = 64  # Choose a batch size that fits your model and training process\n",
        "\n",
        "train_loader = DataLoader(train_dataset, batch_size=batch_size, shuffle=True)\n",
        "test_loader = DataLoader(test_dataset, batch_size=batch_size, shuffle=False)\n"
      ]
    },
    {
      "cell_type": "code",
      "execution_count": 74,
      "metadata": {
        "colab": {
          "base_uri": "https://localhost:8080/"
        },
        "id": "y94bQ07XBCnI",
        "outputId": "873412bc-8788-4c4d-affe-90fefcfcc2c8"
      },
      "outputs": [
        {
          "name": "stderr",
          "output_type": "stream",
          "text": [
            "/Users/shivamjindal/Documents/Projects/Real Estate Scraper/env/lib/python3.11/site-packages/torch/nn/modules/loss.py:535: UserWarning: Using a target size (torch.Size([64, 1])) that is different to the input size (torch.Size([64])). This will likely lead to incorrect results due to broadcasting. Please ensure they have the same size.\n",
            "  return F.mse_loss(input, target, reduction=self.reduction)\n",
            "/Users/shivamjindal/Documents/Projects/Real Estate Scraper/env/lib/python3.11/site-packages/torch/nn/modules/loss.py:535: UserWarning: Using a target size (torch.Size([8, 1])) that is different to the input size (torch.Size([8])). This will likely lead to incorrect results due to broadcasting. Please ensure they have the same size.\n",
            "  return F.mse_loss(input, target, reduction=self.reduction)\n"
          ]
        },
        {
          "name": "stdout",
          "output_type": "stream",
          "text": [
            "Epoch [1/25], Loss: 7468230.0000\n",
            "Epoch [2/25], Loss: 738296.6875\n",
            "Epoch [3/25], Loss: 1322286.2500\n",
            "Epoch [4/25], Loss: 1622845.3750\n",
            "Epoch [5/25], Loss: 691694.8125\n",
            "Epoch [6/25], Loss: 820698.9375\n",
            "Epoch [7/25], Loss: 1318797.5000\n",
            "Epoch [8/25], Loss: 721329.4375\n",
            "Epoch [9/25], Loss: 656228.6250\n",
            "Epoch [10/25], Loss: 1838067.6250\n",
            "Epoch [11/25], Loss: 623831.8750\n",
            "Epoch [12/25], Loss: 793142.7500\n",
            "Epoch [13/25], Loss: 1412016.3750\n",
            "Epoch [14/25], Loss: 2253569.5000\n",
            "Epoch [15/25], Loss: 569338.6875\n",
            "Epoch [16/25], Loss: 797851.8750\n",
            "Epoch [17/25], Loss: 531907.4375\n",
            "Epoch [18/25], Loss: 854410.1250\n",
            "Epoch [19/25], Loss: 340459.0000\n",
            "Epoch [20/25], Loss: 2040562.1250\n",
            "Epoch [21/25], Loss: 973894.3750\n",
            "Epoch [22/25], Loss: 567138.3125\n",
            "Epoch [23/25], Loss: 1138815.3750\n",
            "Epoch [24/25], Loss: 674764.7500\n",
            "Epoch [25/25], Loss: 1041746.8750\n"
          ]
        }
      ],
      "source": [
        "import torch\n",
        "import torch.nn as nn\n",
        "import torch.nn.functional as F\n",
        "\n",
        "NUM_EPOCHS = 25\n",
        "LEARNING_RATE = 0.001\n",
        "LAMBDA_L1 = 0.01  # Regularization strength\n",
        "\n",
        "class RegressionModelV2(nn.Module):\n",
        "    def __init__(self, input_size):\n",
        "        super(RegressionModelV2, self).__init__()\n",
        "        # Increasing the complexity of the model\n",
        "        self.fc1 = nn.Linear(input_size, 64)\n",
        "        self.fc2 = nn.Linear(64, 64)\n",
        "        self.fc3 = nn.Linear(64, 32)\n",
        "        self.fc4 = nn.Linear(32, 16)\n",
        "        self.fc5 = nn.Linear(16, 1)  # Single output for regression\n",
        "\n",
        "    def forward(self, x):\n",
        "        x = F.relu(self.fc1(x))\n",
        "        x = F.relu(self.fc2(x))\n",
        "        x = F.relu(self.fc3(x))\n",
        "        x = F.relu(self.fc4(x))\n",
        "        x = self.fc5(x)  # No activation function for the last layer in regression\n",
        "        return x\n",
        "\n",
        "input_size = X_train.shape[1]\n",
        "\n",
        "# Replace input_size with the actual size of your input features\n",
        "model = RegressionModelV2(input_size)\n",
        "criterion = nn.MSELoss()\n",
        "optimizer = torch.optim.Adam(model.parameters(), lr=LEARNING_RATE)  # Learning rate can be adjusted\n",
        "\n",
        "model.train()\n",
        "\n",
        "for epoch in range(NUM_EPOCHS):\n",
        "  for input, targets in train_loader:\n",
        "    prediction = model(input)\n",
        "    loss = criterion(targets, prediction)\n",
        "\n",
        "    l1_penalty = sum(torch.sum(torch.abs(param)) for param in model.parameters())\n",
        "    total_loss = loss + LAMBDA_L1 * l1_penalty\n",
        "\n",
        "    optimizer.zero_grad()  # Clear existing gradients\n",
        "    total_loss.backward()       # Backpropagation\n",
        "    optimizer.step()      # Update model parameters\n",
        "\n",
        "  # Optional: Print the loss every epoch\n",
        "  print(f'Epoch [{epoch+1}/{NUM_EPOCHS}], Loss: {total_loss.item():.4f}')"
      ]
    },
    {
      "cell_type": "code",
      "execution_count": 83,
      "metadata": {
        "colab": {
          "base_uri": "https://localhost:8080/",
          "height": 559
        },
        "id": "vawaNzl0QzPS",
        "outputId": "6c775faa-1869-48f1-dbd5-afaf2cf38089"
      },
      "outputs": [
        {
          "name": "stdout",
          "output_type": "stream",
          "text": [
            "MAE: 724.4678344726562\n",
            "MSE: 926555.0625\n",
            "RMSE: 962.5773020905906\n",
            "R-squared: -0.2522552912399656\n"
          ]
        }
      ],
      "source": [
        "from sklearn.metrics import mean_squared_error, r2_score\n",
        "from math import sqrt\n",
        "\n",
        "model.eval()  # Set the model to evaluation mode\n",
        "with torch.no_grad():  # Gradient computation is not needed for evaluation\n",
        "  # Assuming you have tensors 'predictions' and 'actuals' for your test set\n",
        "  predictions = model(X_test)  # X_test is your input tensor for the test set\n",
        "  actuals = y_test  # y_test is the corresponding actual values tensor for the test set\n",
        "\n",
        "  # Detach predictions and actuals from the computation graph if they require gradients\n",
        "  predictions = predictions.detach()\n",
        "  actuals = actuals.detach()\n",
        "\n",
        "  # Convert to numpy arrays if needed\n",
        "  predictions_np = predictions.numpy()\n",
        "  actuals_np = actuals.numpy()\n",
        "\n",
        "  # Calculate MSE and RMSE\n",
        "  mse = mean_squared_error(actuals_np, predictions_np)\n",
        "  rmse = sqrt(mse)\n",
        "\n",
        "  # Calculate MAE\n",
        "  mae = torch.mean(torch.abs(predictions - actuals)).item()\n",
        "\n",
        "  # Calculate R-squared\n",
        "  r2 = r2_score(actuals_np, predictions_np)\n",
        "\n",
        "  print(f'MAE: {mae}')\n",
        "  print(f'MSE: {mse}')\n",
        "  print(f'RMSE: {rmse}')\n",
        "  print(f'R-squared: {r2}')\n",
        "  # Code to evaluate the model on the test set"
      ]
    },
    {
      "cell_type": "code",
      "execution_count": 76,
      "metadata": {},
      "outputs": [
        {
          "data": {
            "image/png": "[encoded data removed]",
            "text/plain": [
              "<Figure size 640x480 with 1 Axes>"
            ]
          },
          "metadata": {},
          "output_type": "display_data"
        }
      ],
      "source": [
        "import matplotlib.pyplot as plt\n",
        "\n",
        "# Assuming y_test is your actual values and predictions is your model's predictions\n",
        "plt.scatter(y_test, predictions)\n",
        "plt.xlabel('Actual Prices')\n",
        "plt.ylabel('Predicted Prices')\n",
        "plt.title('Predicted vs. Actual Prices')\n",
        "plt.plot([y_test.min(), y_test.max()], [y_test.min(), y_test.max()], 'k--', lw=3)  # Diagonal line\n",
        "plt.show()"
      ]
    },
    {
      "cell_type": "code",
      "execution_count": 77,
      "metadata": {
        "colab": {
          "base_uri": "https://localhost:8080/",
          "height": 489
        },
        "id": "yNe5Agagf39I",
        "outputId": "46fb4ae6-3ad0-4456-e26f-8ccd8c33fd45"
      },
      "outputs": [
        {
          "name": "stdout",
          "output_type": "stream",
          "text": [
            "0.7943\n"
          ]
        }
      ],
      "source": [
        "from sklearn.model_selection import train_test_split\n",
        "from sklearn.linear_model import LinearRegression\n",
        "from sklearn.metrics import mean_squared_error\n",
        "\n",
        "regression_model = LinearRegression()\n",
        "\n",
        "regression_model.fit(X_train, y_train)\n",
        "\n",
        "predictions = regression_model.predict(X_test)\n",
        "\n",
        "print(f\"{regression_model.score(X_test, y_test):.4f}\")"
      ]
    },
    {
      "cell_type": "code",
      "execution_count": 78,
      "metadata": {},
      "outputs": [
        {
          "data": {
            "image/png": "[encoded data removed]",
            "text/plain": [
              "<Figure size 640x480 with 1 Axes>"
            ]
          },
          "metadata": {},
          "output_type": "display_data"
        }
      ],
      "source": [
        "import matplotlib.pyplot as plt\n",
        "\n",
        "plt.scatter(y_test, predictions)\n",
        "plt.xlabel('Actual Prices')\n",
        "plt.ylabel('Predicted Prices')\n",
        "plt.title('Linear Regression - Predicted vs. Actual Prices')\n",
        "plt.plot([y_test.min(), y_test.max()], [y_test.min(), y_test.max()], 'k--', lw=3)  # Diagonal line\n",
        "plt.show()"
      ]
    },
    {
      "cell_type": "code",
      "execution_count": 79,
      "metadata": {
        "colab": {
          "base_uri": "https://localhost:8080/"
        },
        "id": "eNGoO_ZFXwji",
        "outputId": "05e6b6bd-e6b3-4ae4-a738-5b6dbcfc4d08"
      },
      "outputs": [
        {
          "name": "stdout",
          "output_type": "stream",
          "text": [
            "0.9162\n"
          ]
        }
      ],
      "source": [
        "from sklearn.ensemble import RandomForestRegressor\n",
        "from sklearn.metrics import mean_squared_error\n",
        "\n",
        "# Create the Random Forest classifier\n",
        "random_forest = RandomForestRegressor(n_estimators=500, random_state=42)\n",
        "\n",
        "# Train the model\n",
        "random_forest.fit(X_train, y_train)\n",
        "\n",
        "# Predict using the test set\n",
        "predictions = random_forest.predict(X_test)\n",
        "\n",
        "# Evaluate accuracy\n",
        "print(f\"{random_forest.score(X_test, y_test):.4f}\")"
      ]
    },
    {
      "cell_type": "code",
      "execution_count": 80,
      "metadata": {
        "colab": {
          "base_uri": "https://localhost:8080/",
          "height": 472
        },
        "id": "00MRMfbkb2Rp",
        "outputId": "cde92f9b-8fe9-419f-c1bc-be711b181dbf"
      },
      "outputs": [
        {
          "data": {
            "image/png": "[encoded data removed]",
            "text/plain": [
              "<Figure size 640x480 with 1 Axes>"
            ]
          },
          "metadata": {},
          "output_type": "display_data"
        }
      ],
      "source": [
        "import matplotlib.pyplot as plt\n",
        "\n",
        "# Assuming y_test is your actual values and predictions is your model's predictions\n",
        "plt.scatter(y_test, predictions)\n",
        "plt.xlabel('Actual Prices')\n",
        "plt.ylabel('Predicted Prices')\n",
        "plt.title('Random Forest - Predicted vs. Actual Prices')\n",
        "plt.plot([y_test.min(), y_test.max()], [y_test.min(), y_test.max()], 'k--', lw=3)  # Diagonal line\n",
        "plt.show()"
      ]
    },
    {
      "cell_type": "code",
      "execution_count": 81,
      "metadata": {
        "colab": {
          "base_uri": "https://localhost:8080/",
          "height": 472
        },
        "id": "lDZgtZHXYxuG",
        "outputId": "2a452381-c634-4567-d9fd-5e4256707b81"
      },
      "outputs": [
        {
          "data": {
            "image/png": "[encoded data removed]",
            "text/plain": [
              "<Figure size 640x480 with 1 Axes>"
            ]
          },
          "metadata": {},
          "output_type": "display_data"
        }
      ],
      "source": [
        "import numpy as np\n",
        "\n",
        "# Assuming 'rf_model' is your trained Random Forest model and 'feature_names' is the list of feature names\n",
        "importances = random_forest.feature_importances_\n",
        "indices = np.argsort(importances)\n",
        "\n",
        "plt.title('Feature Importances')\n",
        "plt.barh(range(len(indices)), importances[indices], align='center')\n",
        "plt.yticks(range(len(indices)), [updated_train_df.columns[i] for i in indices])\n",
        "plt.xlabel('Relative Importance')\n",
        "plt.show()"
      ]
    },
    {
      "cell_type": "code",
      "execution_count": 82,
      "metadata": {},
      "outputs": [
        {
          "data": {
            "text/plain": [
              "['random_forest_model.joblib']"
            ]
          },
          "execution_count": 82,
          "metadata": {},
          "output_type": "execute_result"
        }
      ],
      "source": [
        "from joblib import dump\n",
        "\n",
        "# Save random forest model\n",
        "dump(random_forest, 'random_forest_model.joblib')"
      ]
    }
  ],
  "metadata": {
    "accelerator": "GPU",
    "colab": {
      "gpuType": "T4",
      "provenance": []
    },
    "kernelspec": {
      "display_name": "Python 3",
      "name": "python3"
    },
    "language_info": {
      "codemirror_mode": {
        "name": "ipython",
        "version": 3
      },
      "file_extension": ".py",
      "mimetype": "text/x-python",
      "name": "python",
      "nbconvert_exporter": "python",
      "pygments_lexer": "ipython3",
      "version": "3.11.3"
    },
    "orig_nbformat": 4,
    "vscode": {
      "interpreter": {
        "hash": "a773ca2156051aca7017cb15099c88c58fe83f1ae2d7d039bbbb5c66e96948e8"
      }
    }
  },
  "nbformat": 4,
  "nbformat_minor": 0
}
