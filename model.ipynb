{
 "cells": [
  {
   "cell_type": "code",
   "execution_count": 2,
   "metadata": {},
   "outputs": [],
   "source": [
    "from data_cleaner import get_cleaned_data, flatten_data\n",
    "import pandas as pd\n",
    "import numpy as np\n",
    "import torch"
   ]
  },
  {
   "attachments": {},
   "cell_type": "markdown",
   "metadata": {},
   "source": [
    "### Data Cleaning\n",
    "- `cleaned_data()` removes bad characters and outlier data including blanks and data for single room listings.\n",
    "- `flatten_data()` flattens the building and unit amenities to put individual amenities into its own column."
   ]
  },
  {
   "cell_type": "code",
   "execution_count": 3,
   "metadata": {},
   "outputs": [],
   "source": [
    "cleaned_data = get_cleaned_data()\n",
    "flattened_data = flatten_data(cleaned_data)\n",
    "df = pd.DataFrame(flattened_data)"
   ]
  },
  {
   "cell_type": "code",
   "execution_count": 4,
   "metadata": {},
   "outputs": [
    {
     "name": "stdout",
     "output_type": "stream",
     "text": [
      "Printing columns:\n",
      "Index(['Building', 'Address', 'Listing', 'Bed', 'Bath', 'SqFt', 'Price',\n",
      "       'Pets', 'Latitude', 'Longitude', 'Balcony', 'In Unit Laundry',\n",
      "       'Air Conditioning', 'High Ceilings', 'Furnished', 'Hardwood Floor',\n",
      "       'Controlled Access', 'Fitness Center', 'Swimming Pool', 'Roof Deck',\n",
      "       'Storage', 'Residents Lounge', 'Outdoor Space'],\n",
      "      dtype='object')\n"
     ]
    }
   ],
   "source": [
    "print(\"Printing columns:\")\n",
    "print(df.columns)"
   ]
  },
  {
   "cell_type": "code",
   "execution_count": 5,
   "metadata": {},
   "outputs": [
    {
     "name": "stdout",
     "output_type": "stream",
     "text": [
      "Printing first 2 rows:\n",
      "             Building                                  Address    Listing  \\\n",
      "0  20 Samuel Wood Way  20 Samuel Wood Way, Toronto, ON M9B 0C8     Studio   \n",
      "1  20 Samuel Wood Way  20 Samuel Wood Way, Toronto, ON M9B 0C8  1 Bedroom   \n",
      "\n",
      "   Bed  Bath  SqFt  Price  Pets  Latitude  Longitude  ...  High Ceilings  \\\n",
      "0    0   1.0   370   2225     1   43.6959    -79.552  ...              0   \n",
      "1    1   1.0   540   2625     1   43.6959    -79.552  ...              0   \n",
      "\n",
      "   Furnished  Hardwood Floor  Controlled Access  Fitness Center  \\\n",
      "0          0               0                  1               1   \n",
      "1          0               0                  1               1   \n",
      "\n",
      "   Swimming Pool  Roof Deck  Storage  Residents Lounge  Outdoor Space  \n",
      "0              0          0        1                 1              1  \n",
      "1              0          0        1                 1              1  \n",
      "\n",
      "[2 rows x 23 columns]\n"
     ]
    }
   ],
   "source": [
    "print(\"Printing first 2 rows:\")\n",
    "print(df.head(2))"
   ]
  },
  {
   "attachments": {},
   "cell_type": "markdown",
   "metadata": {},
   "source": [
    "### Standardize the Data\n",
    "We use the standard scaling to standardize the values before passing to the model."
   ]
  },
  {
   "cell_type": "code",
   "execution_count": 6,
   "metadata": {},
   "outputs": [],
   "source": [
    "from constants import TableHeaders"
   ]
  },
  {
   "cell_type": "code",
   "execution_count": 7,
   "metadata": {},
   "outputs": [
    {
     "name": "stdout",
     "output_type": "stream",
     "text": [
      "Mean SQFT: 849.9989795918367\n",
      "STDEV SQFT: 563.6767772248846\n"
     ]
    }
   ],
   "source": [
    "SQFT = TableHeaders.SQFT.value\n",
    "\n",
    "np_sqft = df[SQFT].to_numpy()\n",
    "sqft_mean = np_sqft.mean()\n",
    "sqft_std = np_sqft.std()\n",
    "\n",
    "print(\"Mean SQFT:\",sqft_mean)\n",
    "print(\"STDEV SQFT:\",sqft_std)"
   ]
  }
 ],
 "metadata": {
  "kernelspec": {
   "display_name": "env",
   "language": "python",
   "name": "python3"
  },
  "language_info": {
   "codemirror_mode": {
    "name": "ipython",
    "version": 3
   },
   "file_extension": ".py",
   "mimetype": "text/x-python",
   "name": "python",
   "nbconvert_exporter": "python",
   "pygments_lexer": "ipython3",
   "version": "3.11.3"
  },
  "orig_nbformat": 4,
  "vscode": {
   "interpreter": {
    "hash": "a773ca2156051aca7017cb15099c88c58fe83f1ae2d7d039bbbb5c66e96948e8"
   }
  }
 },
 "nbformat": 4,
 "nbformat_minor": 2
}
